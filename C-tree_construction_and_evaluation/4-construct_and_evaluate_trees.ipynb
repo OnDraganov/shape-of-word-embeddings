{
 "cells": [
  {
   "cell_type": "code",
   "execution_count": null,
   "metadata": {},
   "outputs": [],
   "source": [
    "import importlib\n",
    "import time\n",
    "import matplotlib as mpl\n",
    "from matplotlib import pyplot as plt\n",
    "import pandas as pd\n",
    "from pathlib import Path\n",
    "\n",
    "import ete3\n",
    "import Bio.Phylo\n",
    "\n",
    "import importlib\n",
    "\n",
    "import src.analysis_utils as au\n",
    "import src.load_functions as lf\n",
    "import src.distance_matrix_experiment as dme\n",
    "import src.fransua_plot_eteTree.plot_eteTree\n",
    "from src.fransua_plot_eteTree.plot_eteTree import plot_tree as plot_ete3_tree\n",
    "\n",
    "import rpy2\n",
    "import rpy2.robjects\n",
    "import rpy2.robjects.packages"
   ]
  },
  {
   "cell_type": "markdown",
   "metadata": {},
   "source": [
    "The tree distance computations are using an `R` package via `rpy2`. The first time it is necessary to install the `R` oackage `TreeDist`---see \"**Install R packages**\" below"
   ]
  },
  {
   "cell_type": "code",
   "execution_count": null,
   "metadata": {},
   "outputs": [],
   "source": [
    "treedist = rpy2.robjects.packages.importr('TreeDist')\n",
    "ape = rpy2.robjects.packages.importr('ape')"
   ]
  },
  {
   "cell_type": "markdown",
   "metadata": {
    "heading_collapsed": true
   },
   "source": [
    "# Install R packages"
   ]
  },
  {
   "cell_type": "markdown",
   "metadata": {
    "hidden": true
   },
   "source": [
    "Only needed to run if `TreeDist` is not yet installed in R."
   ]
  },
  {
   "cell_type": "code",
   "execution_count": null,
   "metadata": {
    "hidden": true
   },
   "outputs": [],
   "source": [
    "# check whether TreeDist is installed\n",
    "rpy2.robjects.packages.isinstalled('TreeDist')"
   ]
  },
  {
   "cell_type": "code",
   "execution_count": null,
   "metadata": {
    "hidden": true
   },
   "outputs": [],
   "source": [
    "r_utils = rpy2.robjects.packages.importr('utils')\n",
    "r_utils.chooseBioCmirror(ind=6)\n",
    "r_utils.install_packages('TreeDist')"
   ]
  },
  {
   "cell_type": "markdown",
   "metadata": {
    "heading_collapsed": true
   },
   "source": [
    "# Load resources"
   ]
  },
  {
   "cell_type": "code",
   "execution_count": null,
   "metadata": {
    "hidden": true
   },
   "outputs": [],
   "source": [
    "res = lf.ResourcesManager()\n",
    "ethnologue_tree = res.ethnologue_tree\n",
    "languages_all = res.indoeuropean_languages_with_data\n",
    "wiki_articles_df = res.wiki_articles_df"
   ]
  },
  {
   "cell_type": "markdown",
   "metadata": {
    "heading_collapsed": true
   },
   "source": [
    "# Print trees"
   ]
  },
  {
   "cell_type": "markdown",
   "metadata": {
    "hidden": true
   },
   "source": [
    "Scripts to print the Ethnologue tree and the UPGMA/NJ trees for given parameters"
   ]
  },
  {
   "cell_type": "code",
   "execution_count": null,
   "metadata": {
    "hidden": true
   },
   "outputs": [],
   "source": [
    "# plot Ethnologue trees with `num` languages with the most articles\n",
    "num = 50\n",
    "ethnologue_tree_ete3 = res.get_ethnologue_with_most_articles(num)\n",
    "plt.figure(figsize=(8,16))\n",
    "plot_ete3_tree(ethnologue_tree_ete3, axe=plt.gca(),\n",
    "               label_func=lambda x: f'{ethnologue_tree.codes_to_names.get(x, x)} ({x})')\n",
    "plt.title(f\"Ethnologue tree of the top {num} languages w.r.t. # of wiki articles (>= {wiki_articles_df[wiki_articles_df['Wiki'].isin(res.get_languages_with_most_articles(num))]['Articles'].min()})\")\n",
    "plt.show()"
   ]
  },
  {
   "cell_type": "code",
   "execution_count": null,
   "metadata": {
    "hidden": true
   },
   "outputs": [],
   "source": [
    "# reconstruct and plot trees with given parameters\n",
    "experiment_name = 'ethnologue_10k_d2'\n",
    "mats_folder = f'data/pd-distance-matrices/{experiment_name}'\n",
    "n = 10000\n",
    "maxdim = 2\n",
    "number_of_languages = 50\n",
    "\n",
    "for metric in ('cosine', ):  # ('euclidean', 'cosine'):\n",
    "    for dim in (1, ):  # (0,1,2):\n",
    "        for distance in ('bars_statistics', ):  # ('bottleneck', 'sliced_wasserstein', 'persistence_image', 'bars_statistics'):\n",
    "            filename = f'{mats_folder}/pddmat.{experiment_name}.n{n}.{metric}.{distance}.d{maxdim}.txt'\n",
    "            distance_matrix, languages = lf.load_strictly_lower_triangular_matrix(\n",
    "                filename,\n",
    "                restrict_labels= res.get_languages_with_most_articles(number_of_languages)\n",
    "            )\n",
    "\n",
    "            trees = {algorithm : au.build_tree_from_labeled_matrix(distance_matrix, languages, algorithm) for algorithm in ['nj', 'upgma']}\n",
    "\n",
    "            fig, axs = plt.subplots(1,2, figsize=(14,14))\n",
    "            label_func=lambda x: ethnologue_tree.codes_to_names.get(x, x)\n",
    "            distance_str=distance.replace(\"_\",r\"\\ \")\n",
    "            plt.suptitle('$\\\\bf{' f'{metric}' '}$' ' metric, dimension ' '$\\\\bf{' f'{dim}' '}$' ', PD-distance: ' '$\\\\bf{' f'{distance_str}' '}$')\n",
    "            for i, (tree_type, tree) in enumerate(sorted(trees.items())):\n",
    "                ax = axs[i]\n",
    "                plot_ete3_tree(tree, axe=ax, label_func=label_func)\n",
    "                ax.set_title(f'tree type: ' r'$\\bf{' f'{tree_type}' '}$')\n",
    "#             plt.savefig(f'{mats_folder}/trees/tree.{experiment_name}.n{n}.{metric}.{distance}.d{dim}.pdf', bbox_inches='tight')\n",
    "            plt.show()"
   ]
  },
  {
   "cell_type": "markdown",
   "metadata": {
    "heading_collapsed": true
   },
   "source": [
    "# Generate reconstructed tree distances data"
   ]
  },
  {
   "cell_type": "code",
   "execution_count": null,
   "metadata": {
    "hidden": true
   },
   "outputs": [],
   "source": [
    "data_folder = Path('data/pd-distance-matrices/ethnologue_10k_d2/')\n",
    "output_folder = Path(f'data/tree-distances/{experiment_name}/')\n",
    "embedding_dim = 300\n",
    "embedding_num_of_words = 10000\n",
    "filename_prefix = f'pddmat.ethnologue_10k_d2.n{embedding_num_of_words}'\n",
    "\n",
    "#=========================================================================\n",
    "\n",
    "table_list_of_dict = []\n",
    "tree_distance_calculator = au.TreeDistanceCalculator(treedist_r_package=treedist, ape_r_package=ape)\n",
    "time_start = time.perf_counter()\n",
    "for num in (81, 50, 30):\n",
    "    languages_considered = res.get_languages_with_most_articles(num)\n",
    "    ethnologue_tree_ete3 = ete3.Tree(ethnologue_tree.get_newick_tree(languages_considered))\n",
    "    ethnologue_tree_r = tree_distance_calculator.convert_tree_ete_to_Rphylo(ethnologue_tree_ete3)\n",
    "    for embedding_metric in ['euclidean', 'cosine']:\n",
    "        for persistent_diagram_metric in ['bars_statistics', 'bottleneck', 'persistence_image', 'sliced_wasserstein']:\n",
    "            for persistent_diagram_dim in [0, 1, 2]:\n",
    "                filepath = data_folder / f'{filename_prefix}.{embedding_metric}.{persistent_diagram_metric}.d{persistent_diagram_dim}.txt'\n",
    "                matrix, languages = lf.load_strictly_lower_triangular_matrix(filepath, restrict_labels=languages_considered)\n",
    "                for tree_algorithm in ['nj', 'upgma']:\n",
    "                    metadata = {\n",
    "                        'embedding_dim': embedding_dim,\n",
    "                        'embedding_num_of_words': embedding_num_of_words,\n",
    "                        'embedding_metric': embedding_metric,\n",
    "                        'persistent_diagram_metric': persistent_diagram_metric,\n",
    "                        'persistent_diagram_dim': persistent_diagram_dim,\n",
    "                        'number_of_languages': num,\n",
    "                        'tree_algorithm': tree_algorithm\n",
    "                    }\n",
    "                    \n",
    "                    tree = au.build_tree_from_labeled_matrix(matrix, languages, tree_algorithm)\n",
    "                    distance_data = tree_distance_calculator.compute_distances(ethnologue_tree_r, tree)\n",
    "                    table_list_of_dict.append(metadata | distance_data)\n",
    "        \n",
    "df_tree_comparisons = pd.DataFrame(table_list_of_dict)\n",
    "time_taken = time.perf_counter() - time_start\n",
    "print(f'Time to compute: {time_taken: .2f} s')\n",
    "\n",
    "df_tree_comparisons.to_csv(output_folder / 'tree_distances_df.csv')"
   ]
  },
  {
   "cell_type": "markdown",
   "metadata": {
    "heading_collapsed": true
   },
   "source": [
    "# Generate permutation test data"
   ]
  },
  {
   "cell_type": "markdown",
   "metadata": {
    "hidden": true
   },
   "source": [
    "For each combination of parameters, compute the distances for `number_of_permutations` random permutations of leaves, and save it as a data frame into a csv file.\n",
    "\n",
    "**CREATE THE NECESSARY OUTPUT DIRECTORIES BEFORE RUNNING**, e.g. `data/random_permutations_data_frames/ethnologue_10k_d2/`"
   ]
  },
  {
   "cell_type": "code",
   "execution_count": null,
   "metadata": {
    "hidden": true
   },
   "outputs": [],
   "source": [
    "number_of_permutations = 10000  # on a laptop, 10'000 permutations take around 30 s for one combination of parameters, under an hour for all 72\n",
    "\n",
    "experiment_name='ethnologue_10k_d2'\n",
    "data_folder = Path(f'data/pd-distance-matrices/{experiment_name}/')\n",
    "embedding_dim = 300\n",
    "embedding_num_of_words = 10000\n",
    "filename_prefix = f'pddmat.ethnologue_10k_d2.n{embedding_num_of_words}'\n",
    "output_folder = Path(f'data/random_permutations_data_frames/{experiment_name}/')\n",
    "output_prefix = f'permutations.ethnologue_10k_d2'\n",
    "output_sufix = f'len{number_of_permutations}.csv'\n",
    "\n",
    "#=========================================================================\n",
    "\n",
    "list_of_dict = []\n",
    "tree_distance_calculator = au.TreeDistanceCalculator(treedist_r_package=treedist, ape_r_package=ape)\n",
    "time_start = time.perf_counter()\n",
    "for num in (30, 50, 81):\n",
    "    table_for_num = {}\n",
    "    languages_considered = res.get_languages_with_most_articles(num)\n",
    "    ethnologue_tree_ete3 = ete3.Tree(ethnologue_tree.get_newick_tree(languages_considered))\n",
    "    ethnologue_tree_r = tree_distance_calculator.convert_tree_ete_to_Rphylo(ethnologue_tree_ete3)\n",
    "    for embedding_metric in ['euclidean', 'cosine']:\n",
    "        for persistent_diagram_metric in ['bars_statistics', 'bottleneck', 'persistence_image', 'sliced_wasserstein']:\n",
    "            for persistent_diagram_dim in [0, 1, 2]:\n",
    "                filepath = data_folder / f'{filename_prefix}.{embedding_metric}.{persistent_diagram_metric}.d{persistent_diagram_dim}.txt'\n",
    "                matrix, languages = lf.load_strictly_lower_triangular_matrix(filepath, restrict_labels=languages_considered)\n",
    "                \n",
    "                for tree_algorithm in ['nj', 'upgma']:\n",
    "                    tree = au.build_tree_from_labeled_matrix(matrix, languages, tree_algorithm)\n",
    "                    distance_data = tree_distance_calculator.compute_distances(ethnologue_tree_r, tree)\n",
    "                    \n",
    "                    time_start_local = time.perf_counter()\n",
    "                    permutations_table = []\n",
    "                    for _ in range(number_of_permutations):\n",
    "                        au.ete3_permute_leafs(tree)\n",
    "                        distance_data_perm = tree_distance_calculator.compute_distances(ethnologue_tree_r, tree)\n",
    "                        permutations_table.append(distance_data_perm)\n",
    "                    permutations_df = pd.DataFrame(permutations_table)\n",
    "                    output_filename = output_folder / (f'{output_prefix}.langs{num}.{embedding_metric}.'\n",
    "                                                       f'{persistent_diagram_metric}.d{persistent_diagram_dim}.'\n",
    "                                                       f'{tree_algorithm}.{output_sufix}')\n",
    "                    permutations_df.to_csv(output_filename)\n",
    "                    \n",
    "                    time_taken_local = time.perf_counter() - time_start_local\n",
    "                    print(f'{output_filename}    [{time_taken_local: .2f} s]')\n",
    "            \n",
    "time_taken = time.perf_counter() - time_start\n",
    "print(f'Time to compute: {time_taken: .2f} s')"
   ]
  }
 ],
 "metadata": {
  "kernelspec": {
   "display_name": "pyenv 3.10",
   "language": "python",
   "name": "3.10"
  },
  "language_info": {
   "codemirror_mode": {
    "name": "ipython",
    "version": 3
   },
   "file_extension": ".py",
   "mimetype": "text/x-python",
   "name": "python",
   "nbconvert_exporter": "python",
   "pygments_lexer": "ipython3",
   "version": "3.10.14"
  },
  "varInspector": {
   "cols": {
    "lenName": 16,
    "lenType": 16,
    "lenVar": 40
   },
   "kernels_config": {
    "python": {
     "delete_cmd_postfix": "",
     "delete_cmd_prefix": "del ",
     "library": "var_list.py",
     "varRefreshCmd": "print(var_dic_list())"
    },
    "r": {
     "delete_cmd_postfix": ") ",
     "delete_cmd_prefix": "rm(",
     "library": "var_list.r",
     "varRefreshCmd": "cat(var_dic_list()) "
    }
   },
   "types_to_exclude": [
    "module",
    "function",
    "builtin_function_or_method",
    "instance",
    "_Feature"
   ],
   "window_display": false
  }
 },
 "nbformat": 4,
 "nbformat_minor": 4
}
